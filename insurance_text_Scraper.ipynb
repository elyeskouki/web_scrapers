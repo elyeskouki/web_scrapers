{
 "cells": [
  {
   "cell_type": "code",
   "execution_count": null,
   "metadata": {},
   "outputs": [],
   "source": [
    "import serpscrap\n",
    "from pymongo import MongoClient"
   ]
  },
  {
   "cell_type": "code",
   "execution_count": null,
   "metadata": {},
   "outputs": [],
   "source": [
    "keywords = [\n",
    "    # 'site:swisslife.com “mutual insurance\"',\n",
    "    # 'site:axa.com “mutual insurance\"',\n",
    "    # 'site:allianz.com “mutual insurance\"',\n",
    "    # 'site:insurify.com “mutual insurance\"',\n",
    "    # 'site:policygenius.com “mutual insurance\"',\n",
    "    # 'site:nerdwallet.com “mutual insurance\"',\n",
    "    # 'site:netquote.com “mutual insurance\"',\n",
    "    # 'site:smartfinancial.com “mutual insurance\"',\n",
    "    # 'site:valuepenguin.com “mutual insurance\"',\n",
    "    # 'site:iffcotokio.co.in “mutual insurance\"',\n",
    "    # 'site:medicareadvantage2018.org “mutual insurance\"',\n",
    "    # 'site:coverfox.com “mutual insurance\"',\n",
    "    # 'site:policyadvisor.in “mutual insurance\"',\n",
    "    # 'site:insurecomparequotes.us “mutual insurance\"',\n",
    "    # 'site:coverhound.com “mutual insurance\"',\n",
    "    # 'site:insurance.com “mutual insurance\"',\n",
    "    # 'site:insurancequotes.com “mutual insurance\"',\n",
    "    'site:insure.com “mutual insurance\"',\n",
    "    'site:thesimpledollar.com “mutual insurance\"'\n",
    "    ]"
   ]
  },
  {
   "cell_type": "code",
   "execution_count": null,
   "metadata": {},
   "outputs": [],
   "source": [
    "config = serpscrap.Config()\n",
    "config.set('scrape_urls', True)\n",
    "config.set('chrome_headless', False)\n",
    "config.set('num_pages_for_keyword',30)# pages per keyword\n",
    "config.set('num_results_per_page', 10)# results,per page\n",
    "config.set('do_caching', False)#disable caching "
   ]
  },
  {
   "cell_type": "code",
   "execution_count": null,
   "metadata": {},
   "outputs": [],
   "source": [
    "scrap = serpscrap.SerpScrap()\n",
    "scrap.init(config=config.get(), keywords=keywords)\n",
    "results = scrap.run()\n",
    "rez_dict={}\n",
    "id=0"
   ]
  },
  {
   "cell_type": "code",
   "execution_count": null,
   "metadata": {},
   "outputs": [],
   "source": [
    "client=MongoClient('localhost',27017)\n",
    "db=client.Insurance_info\n",
    "\n",
    "#Stocking information in MongoDB\n",
    "for i in range(0,len(results)):\n",
    "    if 'url' in results[i]:\n",
    "        rez_dict['meta_title']=results[i]['meta_title']\n",
    "        rez_dict['text_raw']=results[i]['text_raw']\n",
    "        rez_dict['_id']=id\n",
    "        db.mutual7.insert_one(rez_dict)\n",
    "        id=id+1    "
   ]
  }
 ],
 "metadata": {
  "kernelspec": {
   "display_name": "Python 3",
   "language": "python",
   "name": "python3"
  },
  "language_info": {
   "codemirror_mode": {
    "name": "ipython",
    "version": 3
   },
   "file_extension": ".py",
   "mimetype": "text/x-python",
   "name": "python",
   "nbconvert_exporter": "python",
   "pygments_lexer": "ipython3",
   "version": "3.7.3"
  }
 },
 "nbformat": 4,
 "nbformat_minor": 2
}
